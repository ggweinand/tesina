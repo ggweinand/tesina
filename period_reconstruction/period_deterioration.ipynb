{
 "cells": [
  {
   "cell_type": "markdown",
   "metadata": {},
   "source": [
    "Vamos a intentar entender (aproximadamente) cuántos puntos de lc se necesitan para una estimación correcta del período."
   ]
  },
  {
   "cell_type": "markdown",
   "metadata": {},
   "source": [
    "# Código Auxiliar"
   ]
  },
  {
   "cell_type": "markdown",
   "metadata": {},
   "source": [
    "## Imports\n",
    "Pongo los imports acá porque no discutimos organización de código."
   ]
  },
  {
   "cell_type": "code",
   "execution_count": 1,
   "metadata": {},
   "outputs": [],
   "source": [
    "import carpyncho\n",
    "import numpy as np\n",
    "import matplotlib.pyplot as plt\n",
    "import pandas as pd\n",
    "import seaborn as sns"
   ]
  },
  {
   "cell_type": "markdown",
   "metadata": {},
   "source": [
    "### Manipulación de curvas de luz"
   ]
  },
  {
   "cell_type": "code",
   "execution_count": 3,
   "metadata": {},
   "outputs": [],
   "source": [
    "from light_curve_sampler import LightCurveSampler"
   ]
  },
  {
   "cell_type": "markdown",
   "metadata": {},
   "source": [
    "# Deterioro del Período"
   ]
  },
  {
   "cell_type": "markdown",
   "metadata": {},
   "source": [
    "## Obtención de los datos\n",
    "Primero descargamos el tile `b278` porque es el tile favorito de Pablo. Chequeamos qué tipos de estrellas periódicas están clasificados."
   ]
  },
  {
   "cell_type": "code",
   "execution_count": 4,
   "metadata": {},
   "outputs": [
    {
     "data": {
      "text/plain": [
       "<StringArray>\n",
       "[           '',      'ECL-NC',  'RRLyr-RRab',   'LPV-OSARG',       'ECL-C',\n",
       "     'LPV-SRV',   'RRLyr-RRc',     'ECL-ELL',    'LPV-Mira', 'T2Cep-BLHer',\n",
       "       'CV-DN', 'T2Cep-RVTau',  'T2Cep-WVir',   'RRLyr-RRd',    'SP_ECL-C',\n",
       "   'SP_ECL-NC',        'BLAP',       'Cep-1',       'Cep-F']\n",
       "Length: 19, dtype: string"
      ]
     },
     "execution_count": 4,
     "metadata": {},
     "output_type": "execute_result"
    }
   ],
   "source": [
    "# Instance the client and get the b278 tile catalogs.\n",
    "client = carpyncho.Carpyncho()\n",
    "b278_lc = client.get_catalog(\"b278\", \"lc\")\n",
    "b278_features = client.get_catalog(\"b278\", \"features\")\n",
    "b278_features.vs_type.unique()"
   ]
  },
  {
   "cell_type": "markdown",
   "metadata": {},
   "source": [
    "Todas las clasificadas son periódicas."
   ]
  },
  {
   "cell_type": "code",
   "execution_count": 5,
   "metadata": {},
   "outputs": [],
   "source": [
    "b278_features = b278_features[b278_features[\"vs_type\"] != \"\"]\n",
    "# periodic_star_types = [\"RRLyr-RRab\", \"RRLyr-RRc\", \"RRLyr-RRd\"]\n",
    "# b278_features = b278_features[b278_features[\"vs_type\"].isin(periodic_star_types)]\n",
    "b278_lc = b278_lc[b278_lc.bm_src_id.isin(b278_features.id.to_numpy())]"
   ]
  },
  {
   "cell_type": "code",
   "execution_count": 31,
   "metadata": {},
   "outputs": [
    {
     "data": {
      "text/html": [
       "<div>\n",
       "<style scoped>\n",
       "    .dataframe tbody tr th:only-of-type {\n",
       "        vertical-align: middle;\n",
       "    }\n",
       "\n",
       "    .dataframe tbody tr th {\n",
       "        vertical-align: top;\n",
       "    }\n",
       "\n",
       "    .dataframe thead th {\n",
       "        text-align: right;\n",
       "    }\n",
       "</style>\n",
       "<table border=\"1\" class=\"dataframe\">\n",
       "  <thead>\n",
       "    <tr style=\"text-align: right;\">\n",
       "      <th></th>\n",
       "      <th>bm_src_id</th>\n",
       "      <th>pwp_stack_src_hjd</th>\n",
       "      <th>pwp_stack_src_mag3</th>\n",
       "      <th>pwp_stack_src_mag_err3</th>\n",
       "    </tr>\n",
       "  </thead>\n",
       "  <tbody>\n",
       "    <tr>\n",
       "      <th>2198</th>\n",
       "      <td>32780000130429</td>\n",
       "      <td>56559.002017</td>\n",
       "      <td>14.790</td>\n",
       "      <td>0.064</td>\n",
       "    </tr>\n",
       "    <tr>\n",
       "      <th>2200</th>\n",
       "      <td>32780000131392</td>\n",
       "      <td>56559.002010</td>\n",
       "      <td>14.591</td>\n",
       "      <td>0.054</td>\n",
       "    </tr>\n",
       "    <tr>\n",
       "      <th>2930</th>\n",
       "      <td>32780000135858</td>\n",
       "      <td>56559.002009</td>\n",
       "      <td>14.367</td>\n",
       "      <td>0.044</td>\n",
       "    </tr>\n",
       "    <tr>\n",
       "      <th>3962</th>\n",
       "      <td>32780000143258</td>\n",
       "      <td>56559.002013</td>\n",
       "      <td>14.591</td>\n",
       "      <td>0.054</td>\n",
       "    </tr>\n",
       "    <tr>\n",
       "      <th>4973</th>\n",
       "      <td>32780000149862</td>\n",
       "      <td>56559.002012</td>\n",
       "      <td>14.278</td>\n",
       "      <td>0.041</td>\n",
       "    </tr>\n",
       "    <tr>\n",
       "      <th>...</th>\n",
       "      <td>...</td>\n",
       "      <td>...</td>\n",
       "      <td>...</td>\n",
       "      <td>...</td>\n",
       "    </tr>\n",
       "    <tr>\n",
       "      <th>94459199</th>\n",
       "      <td>32780000930947</td>\n",
       "      <td>56506.997219</td>\n",
       "      <td>15.590</td>\n",
       "      <td>0.100</td>\n",
       "    </tr>\n",
       "    <tr>\n",
       "      <th>94459280</th>\n",
       "      <td>32780000931758</td>\n",
       "      <td>56506.997215</td>\n",
       "      <td>14.824</td>\n",
       "      <td>0.051</td>\n",
       "    </tr>\n",
       "    <tr>\n",
       "      <th>94465182</th>\n",
       "      <td>32780000846846</td>\n",
       "      <td>56506.997229</td>\n",
       "      <td>15.526</td>\n",
       "      <td>0.091</td>\n",
       "    </tr>\n",
       "    <tr>\n",
       "      <th>94474936</th>\n",
       "      <td>32780000906990</td>\n",
       "      <td>56506.997227</td>\n",
       "      <td>13.995</td>\n",
       "      <td>0.023</td>\n",
       "    </tr>\n",
       "    <tr>\n",
       "      <th>94476808</th>\n",
       "      <td>32780000917471</td>\n",
       "      <td>56506.997232</td>\n",
       "      <td>14.060</td>\n",
       "      <td>0.025</td>\n",
       "    </tr>\n",
       "  </tbody>\n",
       "</table>\n",
       "<p>50681 rows × 4 columns</p>\n",
       "</div>"
      ],
      "text/plain": [
       "               bm_src_id  pwp_stack_src_hjd  pwp_stack_src_mag3  \\\n",
       "2198      32780000130429       56559.002017              14.790   \n",
       "2200      32780000131392       56559.002010              14.591   \n",
       "2930      32780000135858       56559.002009              14.367   \n",
       "3962      32780000143258       56559.002013              14.591   \n",
       "4973      32780000149862       56559.002012              14.278   \n",
       "...                  ...                ...                 ...   \n",
       "94459199  32780000930947       56506.997219              15.590   \n",
       "94459280  32780000931758       56506.997215              14.824   \n",
       "94465182  32780000846846       56506.997229              15.526   \n",
       "94474936  32780000906990       56506.997227              13.995   \n",
       "94476808  32780000917471       56506.997232              14.060   \n",
       "\n",
       "          pwp_stack_src_mag_err3  \n",
       "2198                       0.064  \n",
       "2200                       0.054  \n",
       "2930                       0.044  \n",
       "3962                       0.054  \n",
       "4973                       0.041  \n",
       "...                          ...  \n",
       "94459199                   0.100  \n",
       "94459280                   0.051  \n",
       "94465182                   0.091  \n",
       "94474936                   0.023  \n",
       "94476808                   0.025  \n",
       "\n",
       "[50681 rows x 4 columns]"
      ]
     },
     "execution_count": 31,
     "metadata": {},
     "output_type": "execute_result"
    }
   ],
   "source": [
    "b278_lc"
   ]
  },
  {
   "cell_type": "code",
   "execution_count": 32,
   "metadata": {},
   "outputs": [
    {
     "data": {
      "text/html": [
       "<div>\n",
       "<style scoped>\n",
       "    .dataframe tbody tr th:only-of-type {\n",
       "        vertical-align: middle;\n",
       "    }\n",
       "\n",
       "    .dataframe tbody tr th {\n",
       "        vertical-align: top;\n",
       "    }\n",
       "\n",
       "    .dataframe thead th {\n",
       "        text-align: right;\n",
       "    }\n",
       "</style>\n",
       "<table border=\"1\" class=\"dataframe\">\n",
       "  <thead>\n",
       "    <tr style=\"text-align: right;\">\n",
       "      <th></th>\n",
       "      <th>id</th>\n",
       "      <th>cnt</th>\n",
       "      <th>ra_k</th>\n",
       "      <th>dec_k</th>\n",
       "      <th>vs_type</th>\n",
       "      <th>vs_catalog</th>\n",
       "      <th>Amplitude</th>\n",
       "      <th>Autocor_length</th>\n",
       "      <th>Beyond1Std</th>\n",
       "      <th>Con</th>\n",
       "      <th>...</th>\n",
       "      <th>c89_jk_color</th>\n",
       "      <th>c89_m2</th>\n",
       "      <th>c89_m4</th>\n",
       "      <th>n09_c3</th>\n",
       "      <th>n09_hk_color</th>\n",
       "      <th>n09_jh_color</th>\n",
       "      <th>n09_jk_color</th>\n",
       "      <th>n09_m2</th>\n",
       "      <th>n09_m4</th>\n",
       "      <th>ppmb</th>\n",
       "    </tr>\n",
       "  </thead>\n",
       "  <tbody>\n",
       "    <tr>\n",
       "      <th>479</th>\n",
       "      <td>32780000002917</td>\n",
       "      <td>58</td>\n",
       "      <td>270.797217</td>\n",
       "      <td>-30.889178</td>\n",
       "      <td>RRLyr-RRab</td>\n",
       "      <td>OGLE-4</td>\n",
       "      <td>0.24850</td>\n",
       "      <td>1.0</td>\n",
       "      <td>0.344828</td>\n",
       "      <td>0.0</td>\n",
       "      <td>...</td>\n",
       "      <td>0.332137</td>\n",
       "      <td>14.842291</td>\n",
       "      <td>14.828564</td>\n",
       "      <td>0.064841</td>\n",
       "      <td>0.098619</td>\n",
       "      <td>0.235392</td>\n",
       "      <td>0.334011</td>\n",
       "      <td>14.996892</td>\n",
       "      <td>14.998764</td>\n",
       "      <td>0.463381</td>\n",
       "    </tr>\n",
       "    <tr>\n",
       "      <th>1244</th>\n",
       "      <td>32780000005228</td>\n",
       "      <td>114</td>\n",
       "      <td>270.753125</td>\n",
       "      <td>-30.863844</td>\n",
       "      <td>RRLyr-RRab</td>\n",
       "      <td>OGLE-3</td>\n",
       "      <td>0.14950</td>\n",
       "      <td>1.0</td>\n",
       "      <td>0.333333</td>\n",
       "      <td>0.0</td>\n",
       "      <td>...</td>\n",
       "      <td>0.300861</td>\n",
       "      <td>13.753861</td>\n",
       "      <td>13.732589</td>\n",
       "      <td>0.146753</td>\n",
       "      <td>0.057082</td>\n",
       "      <td>0.245498</td>\n",
       "      <td>0.302581</td>\n",
       "      <td>13.898376</td>\n",
       "      <td>13.902603</td>\n",
       "      <td>1.847552</td>\n",
       "    </tr>\n",
       "    <tr>\n",
       "      <th>4478</th>\n",
       "      <td>32780000008400</td>\n",
       "      <td>57</td>\n",
       "      <td>270.224575</td>\n",
       "      <td>-30.600756</td>\n",
       "      <td>RRLyr-RRab</td>\n",
       "      <td>OGLE-4</td>\n",
       "      <td>0.27250</td>\n",
       "      <td>1.0</td>\n",
       "      <td>0.298246</td>\n",
       "      <td>0.0</td>\n",
       "      <td>...</td>\n",
       "      <td>0.183028</td>\n",
       "      <td>14.295380</td>\n",
       "      <td>14.289170</td>\n",
       "      <td>0.014729</td>\n",
       "      <td>0.062195</td>\n",
       "      <td>0.122289</td>\n",
       "      <td>0.184484</td>\n",
       "      <td>14.394760</td>\n",
       "      <td>14.395185</td>\n",
       "      <td>1.779271</td>\n",
       "    </tr>\n",
       "    <tr>\n",
       "      <th>4761</th>\n",
       "      <td>32780000008729</td>\n",
       "      <td>101</td>\n",
       "      <td>270.753467</td>\n",
       "      <td>-30.856761</td>\n",
       "      <td>RRLyr-RRc</td>\n",
       "      <td>vizier</td>\n",
       "      <td>0.10825</td>\n",
       "      <td>1.0</td>\n",
       "      <td>0.297030</td>\n",
       "      <td>0.0</td>\n",
       "      <td>...</td>\n",
       "      <td>0.189860</td>\n",
       "      <td>14.549579</td>\n",
       "      <td>14.542438</td>\n",
       "      <td>0.013916</td>\n",
       "      <td>0.065082</td>\n",
       "      <td>0.126499</td>\n",
       "      <td>0.191580</td>\n",
       "      <td>14.670846</td>\n",
       "      <td>14.671247</td>\n",
       "      <td>5.363732</td>\n",
       "    </tr>\n",
       "    <tr>\n",
       "      <th>7551</th>\n",
       "      <td>32780000012434</td>\n",
       "      <td>53</td>\n",
       "      <td>270.179458</td>\n",
       "      <td>-30.570828</td>\n",
       "      <td>RRLyr-RRc</td>\n",
       "      <td>OGLE-4</td>\n",
       "      <td>0.09450</td>\n",
       "      <td>1.0</td>\n",
       "      <td>0.339623</td>\n",
       "      <td>0.0</td>\n",
       "      <td>...</td>\n",
       "      <td>0.062325</td>\n",
       "      <td>14.575846</td>\n",
       "      <td>14.545831</td>\n",
       "      <td>0.271018</td>\n",
       "      <td>-0.076004</td>\n",
       "      <td>0.139781</td>\n",
       "      <td>0.063777</td>\n",
       "      <td>14.651218</td>\n",
       "      <td>14.659138</td>\n",
       "      <td>0.004794</td>\n",
       "    </tr>\n",
       "    <tr>\n",
       "      <th>...</th>\n",
       "      <td>...</td>\n",
       "      <td>...</td>\n",
       "      <td>...</td>\n",
       "      <td>...</td>\n",
       "      <td>...</td>\n",
       "      <td>...</td>\n",
       "      <td>...</td>\n",
       "      <td>...</td>\n",
       "      <td>...</td>\n",
       "      <td>...</td>\n",
       "      <td>...</td>\n",
       "      <td>...</td>\n",
       "      <td>...</td>\n",
       "      <td>...</td>\n",
       "      <td>...</td>\n",
       "      <td>...</td>\n",
       "      <td>...</td>\n",
       "      <td>...</td>\n",
       "      <td>...</td>\n",
       "      <td>...</td>\n",
       "      <td>...</td>\n",
       "    </tr>\n",
       "    <tr>\n",
       "      <th>857039</th>\n",
       "      <td>32780000930947</td>\n",
       "      <td>111</td>\n",
       "      <td>271.738038</td>\n",
       "      <td>-29.672497</td>\n",
       "      <td>RRLyr-RRab</td>\n",
       "      <td>OGLE-4</td>\n",
       "      <td>0.28950</td>\n",
       "      <td>1.0</td>\n",
       "      <td>0.288288</td>\n",
       "      <td>0.0</td>\n",
       "      <td>...</td>\n",
       "      <td>0.103729</td>\n",
       "      <td>15.723726</td>\n",
       "      <td>15.715780</td>\n",
       "      <td>0.050498</td>\n",
       "      <td>0.019842</td>\n",
       "      <td>0.084742</td>\n",
       "      <td>0.104585</td>\n",
       "      <td>15.787393</td>\n",
       "      <td>15.788875</td>\n",
       "      <td>2.147714</td>\n",
       "    </tr>\n",
       "    <tr>\n",
       "      <th>857795</th>\n",
       "      <td>32780000931758</td>\n",
       "      <td>77</td>\n",
       "      <td>271.650196</td>\n",
       "      <td>-29.630828</td>\n",
       "      <td>RRLyr-RRc</td>\n",
       "      <td>vizier</td>\n",
       "      <td>0.12250</td>\n",
       "      <td>1.0</td>\n",
       "      <td>0.324675</td>\n",
       "      <td>0.0</td>\n",
       "      <td>...</td>\n",
       "      <td>0.115026</td>\n",
       "      <td>14.596278</td>\n",
       "      <td>14.576428</td>\n",
       "      <td>0.171289</td>\n",
       "      <td>-0.020356</td>\n",
       "      <td>0.136235</td>\n",
       "      <td>0.115878</td>\n",
       "      <td>14.663503</td>\n",
       "      <td>14.668616</td>\n",
       "      <td>2.998110</td>\n",
       "    </tr>\n",
       "    <tr>\n",
       "      <th>858834</th>\n",
       "      <td>32780000932872</td>\n",
       "      <td>90</td>\n",
       "      <td>271.846892</td>\n",
       "      <td>-29.721153</td>\n",
       "      <td>RRLyr-RRab</td>\n",
       "      <td>OGLE-3</td>\n",
       "      <td>0.26700</td>\n",
       "      <td>2.0</td>\n",
       "      <td>0.255556</td>\n",
       "      <td>0.0</td>\n",
       "      <td>...</td>\n",
       "      <td>0.162770</td>\n",
       "      <td>14.306237</td>\n",
       "      <td>14.282974</td>\n",
       "      <td>0.197985</td>\n",
       "      <td>-0.012630</td>\n",
       "      <td>0.175940</td>\n",
       "      <td>0.163310</td>\n",
       "      <td>14.377789</td>\n",
       "      <td>14.383087</td>\n",
       "      <td>0.270734</td>\n",
       "    </tr>\n",
       "    <tr>\n",
       "      <th>863839</th>\n",
       "      <td>32780000938199</td>\n",
       "      <td>57</td>\n",
       "      <td>271.002996</td>\n",
       "      <td>-29.305242</td>\n",
       "      <td>RRLyr-RRab</td>\n",
       "      <td>OGLE-4</td>\n",
       "      <td>0.17150</td>\n",
       "      <td>1.0</td>\n",
       "      <td>0.210526</td>\n",
       "      <td>0.0</td>\n",
       "      <td>...</td>\n",
       "      <td>0.212238</td>\n",
       "      <td>13.837621</td>\n",
       "      <td>13.826073</td>\n",
       "      <td>0.077380</td>\n",
       "      <td>0.049973</td>\n",
       "      <td>0.163542</td>\n",
       "      <td>0.213515</td>\n",
       "      <td>13.921748</td>\n",
       "      <td>13.924036</td>\n",
       "      <td>0.180505</td>\n",
       "    </tr>\n",
       "    <tr>\n",
       "      <th>866847</th>\n",
       "      <td>32780000049811</td>\n",
       "      <td>114</td>\n",
       "      <td>270.486167</td>\n",
       "      <td>-30.649078</td>\n",
       "      <td>RRLyr-RRab</td>\n",
       "      <td>OGLE-4</td>\n",
       "      <td>0.16600</td>\n",
       "      <td>2.0</td>\n",
       "      <td>0.236842</td>\n",
       "      <td>0.0</td>\n",
       "      <td>...</td>\n",
       "      <td>0.168540</td>\n",
       "      <td>13.868363</td>\n",
       "      <td>13.852667</td>\n",
       "      <td>0.112226</td>\n",
       "      <td>0.021465</td>\n",
       "      <td>0.149353</td>\n",
       "      <td>0.170818</td>\n",
       "      <td>13.966835</td>\n",
       "      <td>13.970070</td>\n",
       "      <td>1.739568</td>\n",
       "    </tr>\n",
       "  </tbody>\n",
       "</table>\n",
       "<p>437 rows × 73 columns</p>\n",
       "</div>"
      ],
      "text/plain": [
       "                    id  cnt        ra_k      dec_k     vs_type vs_catalog  \\\n",
       "479     32780000002917   58  270.797217 -30.889178  RRLyr-RRab     OGLE-4   \n",
       "1244    32780000005228  114  270.753125 -30.863844  RRLyr-RRab     OGLE-3   \n",
       "4478    32780000008400   57  270.224575 -30.600756  RRLyr-RRab     OGLE-4   \n",
       "4761    32780000008729  101  270.753467 -30.856761   RRLyr-RRc     vizier   \n",
       "7551    32780000012434   53  270.179458 -30.570828   RRLyr-RRc     OGLE-4   \n",
       "...                ...  ...         ...        ...         ...        ...   \n",
       "857039  32780000930947  111  271.738038 -29.672497  RRLyr-RRab     OGLE-4   \n",
       "857795  32780000931758   77  271.650196 -29.630828   RRLyr-RRc     vizier   \n",
       "858834  32780000932872   90  271.846892 -29.721153  RRLyr-RRab     OGLE-3   \n",
       "863839  32780000938199   57  271.002996 -29.305242  RRLyr-RRab     OGLE-4   \n",
       "866847  32780000049811  114  270.486167 -30.649078  RRLyr-RRab     OGLE-4   \n",
       "\n",
       "        Amplitude  Autocor_length  Beyond1Std  Con  ...  c89_jk_color  \\\n",
       "479       0.24850             1.0    0.344828  0.0  ...      0.332137   \n",
       "1244      0.14950             1.0    0.333333  0.0  ...      0.300861   \n",
       "4478      0.27250             1.0    0.298246  0.0  ...      0.183028   \n",
       "4761      0.10825             1.0    0.297030  0.0  ...      0.189860   \n",
       "7551      0.09450             1.0    0.339623  0.0  ...      0.062325   \n",
       "...           ...             ...         ...  ...  ...           ...   \n",
       "857039    0.28950             1.0    0.288288  0.0  ...      0.103729   \n",
       "857795    0.12250             1.0    0.324675  0.0  ...      0.115026   \n",
       "858834    0.26700             2.0    0.255556  0.0  ...      0.162770   \n",
       "863839    0.17150             1.0    0.210526  0.0  ...      0.212238   \n",
       "866847    0.16600             2.0    0.236842  0.0  ...      0.168540   \n",
       "\n",
       "           c89_m2     c89_m4    n09_c3  n09_hk_color  n09_jh_color  \\\n",
       "479     14.842291  14.828564  0.064841      0.098619      0.235392   \n",
       "1244    13.753861  13.732589  0.146753      0.057082      0.245498   \n",
       "4478    14.295380  14.289170  0.014729      0.062195      0.122289   \n",
       "4761    14.549579  14.542438  0.013916      0.065082      0.126499   \n",
       "7551    14.575846  14.545831  0.271018     -0.076004      0.139781   \n",
       "...           ...        ...       ...           ...           ...   \n",
       "857039  15.723726  15.715780  0.050498      0.019842      0.084742   \n",
       "857795  14.596278  14.576428  0.171289     -0.020356      0.136235   \n",
       "858834  14.306237  14.282974  0.197985     -0.012630      0.175940   \n",
       "863839  13.837621  13.826073  0.077380      0.049973      0.163542   \n",
       "866847  13.868363  13.852667  0.112226      0.021465      0.149353   \n",
       "\n",
       "        n09_jk_color     n09_m2     n09_m4      ppmb  \n",
       "479         0.334011  14.996892  14.998764  0.463381  \n",
       "1244        0.302581  13.898376  13.902603  1.847552  \n",
       "4478        0.184484  14.394760  14.395185  1.779271  \n",
       "4761        0.191580  14.670846  14.671247  5.363732  \n",
       "7551        0.063777  14.651218  14.659138  0.004794  \n",
       "...              ...        ...        ...       ...  \n",
       "857039      0.104585  15.787393  15.788875  2.147714  \n",
       "857795      0.115878  14.663503  14.668616  2.998110  \n",
       "858834      0.163310  14.377789  14.383087  0.270734  \n",
       "863839      0.213515  13.921748  13.924036  0.180505  \n",
       "866847      0.170818  13.966835  13.970070  1.739568  \n",
       "\n",
       "[437 rows x 73 columns]"
      ]
     },
     "execution_count": 32,
     "metadata": {},
     "output_type": "execute_result"
    }
   ],
   "source": [
    "b278_features"
   ]
  },
  {
   "cell_type": "markdown",
   "metadata": {},
   "source": [
    "La meto en mi clase."
   ]
  },
  {
   "cell_type": "markdown",
   "metadata": {},
   "source": []
  },
  {
   "cell_type": "code",
   "execution_count": 6,
   "metadata": {},
   "outputs": [],
   "source": [
    "star = b278_features.loc[b278_features[\"cnt\"].idxmax()]\n",
    "# Get the observations for the star.\n",
    "light_curve = b278_lc[b278_lc.bm_src_id == star.id]\n",
    "\n",
    "lc = LightCurveSampler(light_curve, star.PeriodLS)"
   ]
  },
  {
   "cell_type": "markdown",
   "metadata": {},
   "source": [
    "Para cada cantidad de observaciones entre `min_obs` y la total disponible, buscamos el período."
   ]
  },
  {
   "cell_type": "code",
   "execution_count": 7,
   "metadata": {},
   "outputs": [],
   "source": [
    "def get_period_list(lc: LightCurveSampler):\n",
    "    period_list = []\n",
    "    size_list = []\n",
    "\n",
    "    for n_sample in range(len(light_curve), 30, -1):\n",
    "        lc.subsample(n_sample)\n",
    "        period, _ = lc.calculate_period()\n",
    "        period_list.append(period)\n",
    "        size_list.append(n_sample)\n",
    "\n",
    "    return size_list, period_list"
   ]
  },
  {
   "cell_type": "markdown",
   "metadata": {},
   "source": [
    "A graficar!"
   ]
  },
  {
   "cell_type": "code",
   "execution_count": 8,
   "metadata": {},
   "outputs": [],
   "source": [
    "def plot_periods(size_list, period_list):\n",
    "    plt.plot(size_list, period_list, color=\"tab:blue\", label=\"periodo calculado\")\n",
    "    plt.axhline(y=star.PeriodLS, color=\"tab:orange\", label=\"periodo del catalogo\")\n",
    "    plt.xlabel(\"cantidad de observaciones\")\n",
    "    plt.ylabel(\"periodo\")\n",
    "    plt.legend()\n",
    "    plt.tight_layout()\n",
    "    plt.show()"
   ]
  },
  {
   "cell_type": "code",
   "execution_count": 9,
   "metadata": {},
   "outputs": [
    {
     "name": "stderr",
     "output_type": "stream",
     "text": [
      "WARNING: AstropyDeprecationWarning: Importing LombScargle from astropy.stats has been deprecated and will no longer be supported in future. Please import this class from the astropy.timeseries module instead [astropy.stats.lombscargle]\n"
     ]
    }
   ],
   "source": [
    "lc_size, lc_period = get_period_list(lc)"
   ]
  },
  {
   "cell_type": "code",
   "execution_count": 10,
   "metadata": {},
   "outputs": [
    {
     "data": {
      "image/png": "[encoded data removed]",
      "text/plain": [
       "<Figure size 432x288 with 1 Axes>"
      ]
     },
     "metadata": {
      "needs_background": "light"
     },
     "output_type": "display_data"
    }
   ],
   "source": [
    "plot_periods(lc_size, lc_period)"
   ]
  },
  {
   "cell_type": "markdown",
   "metadata": {},
   "source": [
    "# Resultados"
   ]
  },
  {
   "cell_type": "code",
   "execution_count": 30,
   "metadata": {},
   "outputs": [
    {
     "data": {
      "text/plain": [
       "(array([  0.,  58., 113.,  60.,  42.,  40.,  21.,  12.,  12.,  19.,  23.,\n",
       "         21.,   1.,   2.,   1.,   1.,   6.,   0.,   2.,   2.,   0.,   0.,\n",
       "          1.,   0.,   0.,   0.,   0.,   0.,   0.]),\n",
       " array([  0.        ,  10.34482759,  20.68965517,  31.03448276,\n",
       "         41.37931034,  51.72413793,  62.06896552,  72.4137931 ,\n",
       "         82.75862069,  93.10344828, 103.44827586, 113.79310345,\n",
       "        124.13793103, 134.48275862, 144.82758621, 155.17241379,\n",
       "        165.51724138, 175.86206897, 186.20689655, 196.55172414,\n",
       "        206.89655172, 217.24137931, 227.5862069 , 237.93103448,\n",
       "        248.27586207, 258.62068966, 268.96551724, 279.31034483,\n",
       "        289.65517241, 300.        ]),\n",
       " <BarContainer object of 29 artists>)"
      ]
     },
     "execution_count": 30,
     "metadata": {},
     "output_type": "execute_result"
    },
    {
     "data": {
      "image/png": "[encoded data removed]",
      "text/plain": [
       "<Figure size 432x288 with 1 Axes>"
      ]
     },
     "metadata": {
      "needs_background": "light"
     },
     "output_type": "display_data"
    }
   ],
   "source": [
    "clipped_df = pd.read_csv(\"clipping_obs_threshold.csv\")\n",
    "# ax = sns.kdeplot(data=clipped_df, x=\"obs_threshold\", hue=\"vs_type\")\n",
    "x = ax.lines[0].get_xdata()\n",
    "y = ax.lines[0].get_ydata()\n",
    "\n",
    "\n",
    "plt.hist(clipped_df.obs_threshold.values, bins=np.linspace(0, 300, 30))"
   ]
  },
  {
   "cell_type": "code",
   "execution_count": 7,
   "metadata": {},
   "outputs": [
    {
     "data": {
      "text/plain": [
       "(array([ 245.,  617., 1058.,  651., 1459., 1963.,  159.,  433.,   41.]),\n",
       " array([  0.        ,  22.22222222,  44.44444444,  66.66666667,\n",
       "         88.88888889, 111.11111111, 133.33333333, 155.55555556,\n",
       "        177.77777778, 200.        ]),\n",
       " <BarContainer object of 9 artists>)"
      ]
     },
     "execution_count": 7,
     "metadata": {},
     "output_type": "execute_result"
    },
    {
     "data": {
      "image/png": "[encoded data removed]",
      "text/plain": [
       "<Figure size 432x288 with 1 Axes>"
      ]
     },
     "metadata": {
      "needs_background": "light"
     },
     "output_type": "display_data"
    }
   ],
   "source": [
    "tile = \"b278\"\n",
    "snr20_df = pd.read_csv(f\"min_obs_{tile}_snr20.csv\")\n",
    "plt.hist(snr20_df.obs_threshold.values, bins=np.linspace(0, 200, 10))"
   ]
  },
  {
   "cell_type": "code",
   "execution_count": 9,
   "metadata": {},
   "outputs": [
    {
     "name": "stderr",
     "output_type": "stream",
     "text": [
      "/home/gianni/.virtualenvs/Tesina/lib/python3.8/site-packages/seaborn/distributions.py:316: UserWarning: Dataset has 0 variance; skipping density estimate. Pass `warn_singular=False` to disable this warning.\n",
      "  warnings.warn(msg, UserWarning)\n",
      "/home/gianni/.virtualenvs/Tesina/lib/python3.8/site-packages/seaborn/distributions.py:316: UserWarning: Dataset has 0 variance; skipping density estimate. Pass `warn_singular=False` to disable this warning.\n",
      "  warnings.warn(msg, UserWarning)\n"
     ]
    },
    {
     "data": {
      "text/plain": [
       "27.60166268527861"
      ]
     },
     "execution_count": 9,
     "metadata": {},
     "output_type": "execute_result"
    },
    {
     "data": {
      "image/png": "[encoded data removed]",
      "text/plain": [
       "<Figure size 432x288 with 1 Axes>"
      ]
     },
     "metadata": {
      "needs_background": "light"
     },
     "output_type": "display_data"
    }
   ],
   "source": [
    "ax = sns.kdeplot(data=snr20_df, x=\"obs_threshold\", hue=\"vs_type\")\n",
    "# x = ax.lines[0].get_xdata()\n",
    "# y = ax.lines[0].get_ydata()\n",
    "# x[y.argmax()]"
   ]
  }
 ],
 "metadata": {
  "kernelspec": {
   "display_name": "Python 3.8.10 ('Tesina')",
   "language": "python",
   "name": "python3"
  },
  "language_info": {
   "codemirror_mode": {
    "name": "ipython",
    "version": 3
   },
   "file_extension": ".py",
   "mimetype": "text/x-python",
   "name": "python",
   "nbconvert_exporter": "python",
   "pygments_lexer": "ipython3",
   "version": "3.8.10"
  },
  "orig_nbformat": 4,
  "vscode": {
   "interpreter": {
    "hash": "2a604ad188f796043537634a355cf6c46bf243096e722e50b45494a1b4361d3b"
   }
  }
 },
 "nbformat": 4,
 "nbformat_minor": 2
}
