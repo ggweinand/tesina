{
 "cells": [
  {
   "cell_type": "markdown",
   "metadata": {},
   "source": [
    "Vamos a intentar reconstruir el período (`PeriodLS`) de una estrella RRLyrae usando procesos gaussianos."
   ]
  },
  {
   "cell_type": "markdown",
   "metadata": {},
   "source": [
    "# Código Auxiliar"
   ]
  },
  {
   "cell_type": "code",
   "execution_count": 1,
   "metadata": {},
   "outputs": [],
   "source": [
    "import matplotlib.pyplot as plt\n",
    "import numpy as np\n",
    "import pandas as pd\n",
    "\n",
    "import feets\n",
    "import feets_patch\n",
    "\n",
    "from copy import deepcopy\n",
    "\n",
    "from light_curve.light_curve import LightCurve\n",
    "from catalog.catalog_loader import CatalogLoader"
   ]
  },
  {
   "cell_type": "markdown",
   "metadata": {},
   "source": [
    "## Funciones auxiliares"
   ]
  },
  {
   "cell_type": "markdown",
   "metadata": {},
   "source": [
    "### Graficación"
   ]
  },
  {
   "cell_type": "code",
   "execution_count": 2,
   "metadata": {},
   "outputs": [],
   "source": [
    "# Auxiliary plotting functions.\n",
    "\n",
    "\n",
    "# Given a light curve, plots magnitude vs HJD.\n",
    "def plot_chronological(lc: LightCurve):\n",
    "    fig, ax = plt.subplots(figsize=(12, 4))\n",
    "\n",
    "    ax.errorbar(\n",
    "        lc.time, lc.mag, lc.err, ls=\"\", marker=\"o\", color=\"tab:blue\", ecolor=\"tab:red\"\n",
    "    )\n",
    "\n",
    "    ax.set_title(f\"Light Curve\")\n",
    "    ax.set_ylabel(\"Magnitude\")\n",
    "    ax.set_xlabel(\"HJD\")\n",
    "\n",
    "    ax.invert_yaxis()\n",
    "    fig.tight_layout()\n",
    "\n",
    "\n",
    "# Given a periodic light curve, plots magnitude vs period in two phases.\n",
    "def plot_periodic(lc: LightCurve):\n",
    "    # duplicate the values in two phases\n",
    "    phase = np.hstack((lc.phase, lc.phase + 1))\n",
    "    pmag = np.hstack((lc.pmag, lc.pmag))\n",
    "    perr = np.hstack((lc.perr, lc.perr))\n",
    "\n",
    "    # plot the folded light curve\n",
    "    fig, ax = plt.subplots(figsize=(12, 4))\n",
    "    ax.errorbar(\n",
    "        phase, pmag, perr, ls=\"\", marker=\"o\", ecolor=\"tab:blue\", color=\"tab:red\"\n",
    "    )\n",
    "    ax.set_title(f\"Folded Light Curve\")\n",
    "    ax.set_ylabel(\"Magnitude\")\n",
    "    ax.set_xlabel(\"Phase\")\n",
    "    ax.invert_yaxis()\n",
    "\n",
    "    fig.tight_layout()\n",
    "\n",
    "    return ax"
   ]
  },
  {
   "cell_type": "markdown",
   "metadata": {},
   "source": [
    "# Obtención de los datos"
   ]
  },
  {
   "cell_type": "code",
   "execution_count": 3,
   "metadata": {},
   "outputs": [],
   "source": [
    "# Get the catalogs.\n",
    "loader = CatalogLoader(\"../catalog\")\n",
    "b278_lc = loader.get_lc(\"b278\")\n",
    "b278_features = loader.get_features(\"b278\")\n",
    "\n",
    "# Filter RRLyraes from the catalogs.\n",
    "periodic_star_types = [\"RRLyr-RRab\", \"RRLyr-RRc\", \"RRLyr-RRd\"]\n",
    "b278_features = b278_features[b278_features[\"vs_type\"].isin(periodic_star_types)]\n",
    "b278_lc = b278_lc[b278_lc.bm_src_id.isin(b278_features.id.to_numpy())]\n",
    "\n",
    "# Select a star.\n",
    "star = b278_features.iloc[8]\n",
    "\n",
    "# Get the observations for the star.\n",
    "light_curve = b278_lc[b278_lc.bm_src_id == star.id]\n",
    "\n",
    "lc = LightCurve(light_curve, star.PeriodLS)"
   ]
  },
  {
   "cell_type": "markdown",
   "metadata": {},
   "source": [
    "# Reconstrucción de Período"
   ]
  },
  {
   "cell_type": "markdown",
   "metadata": {},
   "source": [
    "Ahora el experimento. Vamos a elegir `n_sample` puntos de la curva de luz al azar y vamos a poner esos puntos en fase usando Lomb-Scargle. Luego vamos a hacer `n_iter` veces lo siguiente:\n",
    "* Entrenar un proceso gaussiano con los puntos.\n",
    "* Utilizarlo para agregar `n_synthetic` puntos que se encuentran en un valor al azar (uniformemente distribuido) de la fase.\n",
    "* Utilizar todos los puntos para recalcular el período usando Lomb-Scargle.\n",
    "  \n",
    "Queremos ver si logramos acercarnos al período del catálogo."
   ]
  },
  {
   "cell_type": "code",
   "execution_count": 4,
   "metadata": {},
   "outputs": [],
   "source": [
    "%load_ext autoreload\n",
    "%autoreload 2"
   ]
  },
  {
   "cell_type": "code",
   "execution_count": 5,
   "metadata": {},
   "outputs": [],
   "source": [
    "# Parameters.\n",
    "n_sample = 40\n",
    "n_iter = 20\n",
    "n_synthetic = 1"
   ]
  },
  {
   "cell_type": "code",
   "execution_count": 6,
   "metadata": {},
   "outputs": [],
   "source": [
    "# Select a star.\n",
    "star = b278_features.iloc[9]\n",
    "\n",
    "# Get the observations for the star.\n",
    "light_curve = b278_lc[b278_lc.bm_src_id == star.id]\n",
    "synthetic_lc = LightCurve(light_curve, star.PeriodLS, star.id)\n",
    "synthetic_lc.filter_snr(20)"
   ]
  },
  {
   "cell_type": "code",
   "execution_count": 7,
   "metadata": {},
   "outputs": [],
   "source": [
    "period_list = []\n",
    "period_fit_list = []\n",
    "\n",
    "# synthetic_lc.subsample(n_sample)\n",
    "\n",
    "for _ in range(n_iter):\n",
    "    synthetic_lc.add_synthetic(n_synthetic)\n",
    "    period, period_fit = synthetic_lc.make_periodic()\n",
    "    period_list.append(period)\n",
    "    period_fit_list.append(period_fit)"
   ]
  },
  {
   "cell_type": "markdown",
   "metadata": {},
   "source": [
    "## Resultados"
   ]
  },
  {
   "cell_type": "code",
   "execution_count": 8,
   "metadata": {},
   "outputs": [
    {
     "data": {
      "text/plain": [
       "[0.8860660646342517,\n",
       " 0.319340839325383,\n",
       " 0.319340839325383,\n",
       " 0.886225930489819,\n",
       " 0.2612666999803157,\n",
       " 0.2612666999803157,\n",
       " 0.2612666999803157,\n",
       " 0.17339863551621293,\n",
       " 0.2612666999803157,\n",
       " 0.2612666999803157,\n",
       " 0.2612666999803157,\n",
       " 0.2612666999803157,\n",
       " 0.2612666999803157,\n",
       " 0.14778119560551853,\n",
       " 0.14778119560551853,\n",
       " 0.10000619418185638,\n",
       " 0.10000517614255815,\n",
       " 0.10000517614255815,\n",
       " 0.10000517614255815,\n",
       " 0.10000517614255815]"
      ]
     },
     "execution_count": 8,
     "metadata": {},
     "output_type": "execute_result"
    }
   ],
   "source": [
    "period_list"
   ]
  },
  {
   "cell_type": "code",
   "execution_count": 9,
   "metadata": {},
   "outputs": [
    {
     "data": {
      "text/plain": [
       "[0.5396094695933689,\n",
       " 0.9886995324174719,\n",
       " 0.9601198524574246,\n",
       " 1.0,\n",
       " 1.0,\n",
       " 1.0,\n",
       " 1.0,\n",
       " 1.0,\n",
       " 1.0,\n",
       " 1.0,\n",
       " 1.0,\n",
       " 1.0,\n",
       " 1.0,\n",
       " 1.0,\n",
       " 1.0,\n",
       " 1.0,\n",
       " 1.0,\n",
       " 1.0,\n",
       " 1.0,\n",
       " 1.0]"
      ]
     },
     "execution_count": 9,
     "metadata": {},
     "output_type": "execute_result"
    }
   ],
   "source": [
    "period_fit_list"
   ]
  }
 ],
 "metadata": {
  "kernelspec": {
   "display_name": "Python 3.8.10 ('Tesina')",
   "language": "python",
   "name": "python3"
  },
  "language_info": {
   "codemirror_mode": {
    "name": "ipython",
    "version": 3
   },
   "file_extension": ".py",
   "mimetype": "text/x-python",
   "name": "python",
   "nbconvert_exporter": "python",
   "pygments_lexer": "ipython3",
   "version": "3.8.10"
  },
  "orig_nbformat": 4,
  "vscode": {
   "interpreter": {
    "hash": "2a604ad188f796043537634a355cf6c46bf243096e722e50b45494a1b4361d3b"
   }
  }
 },
 "nbformat": 4,
 "nbformat_minor": 2
}
